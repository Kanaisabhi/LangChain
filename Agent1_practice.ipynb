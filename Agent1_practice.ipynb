{
 "cells": [
  {
   "cell_type": "code",
   "execution_count": 1,
   "id": "e723528f",
   "metadata": {},
   "outputs": [],
   "source": [
    "from langgraph.graph import StateGraph\n",
    "from typing import TypedDict , Dict"
   ]
  },
  {
   "cell_type": "code",
   "execution_count": 2,
   "id": "5ce558fa",
   "metadata": {},
   "outputs": [],
   "source": [
    "class AgentState(TypedDict):\n",
    "  message : str\n",
    "  name : str\n",
    "\n",
    "def complimenter_agent(state : AgentState) -> AgentState:\n",
    "  name = state.get(\"name\" , \"user\")\n",
    "  state[\"name\"] = name \n",
    "  state[\"message\"] = \"hey \" + state[\"name\"] +\" you are doing good by learning LangGraph\"\n",
    "  return state"
   ]
  },
  {
   "cell_type": "code",
   "execution_count": 3,
   "id": "b831a791",
   "metadata": {},
   "outputs": [],
   "source": [
    "graph = StateGraph(AgentState)\n",
    "graph.add_node(\"complimenter\" , complimenter_agent)\n",
    "graph.set_entry_point(\"complimenter\")\n",
    "graph.set_finish_point(\"complimenter\")\n",
    "\n",
    "app = graph.compile()"
   ]
  },
  {
   "cell_type": "code",
   "execution_count": 6,
   "id": "507a03f6",
   "metadata": {},
   "outputs": [],
   "source": [
    "result = app.invoke({\"name\" : \"Igorov\"})"
   ]
  },
  {
   "cell_type": "code",
   "execution_count": 7,
   "id": "1de1e877",
   "metadata": {},
   "outputs": [
    {
     "data": {
      "text/plain": [
       "'hey Igorov you are doing good by learning LangGraph'"
      ]
     },
     "execution_count": 7,
     "metadata": {},
     "output_type": "execute_result"
    }
   ],
   "source": [
    "result[\"message\"]"
   ]
  }
 ],
 "metadata": {
  "kernelspec": {
   "display_name": "Python 3",
   "language": "python",
   "name": "python3"
  },
  "language_info": {
   "codemirror_mode": {
    "name": "ipython",
    "version": 3
   },
   "file_extension": ".py",
   "mimetype": "text/x-python",
   "name": "python",
   "nbconvert_exporter": "python",
   "pygments_lexer": "ipython3",
   "version": "3.12.10"
  }
 },
 "nbformat": 4,
 "nbformat_minor": 5
}
