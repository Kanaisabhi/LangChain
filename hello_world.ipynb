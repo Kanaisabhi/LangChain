{
 "cells": [
  {
   "cell_type": "code",
   "execution_count": 15,
   "id": "a124f043",
   "metadata": {},
   "outputs": [],
   "source": [
    "from typing import TypedDict , Dict\n",
    "from langgraph.graph import StateGraph \n",
    "#state graph is a framework which help to design and manage workflow or manage the flow of tasks in our application using graph"
   ]
  },
  {
   "cell_type": "code",
   "execution_count": null,
   "id": "e7e83447",
   "metadata": {},
   "outputs": [],
   "source": [
    "#We now create an AgentState - shared data structure that keeps tracks of information as your applications runs\n",
    "class AgentState(TypedDict): #our state schema\n",
    "  message : str\n",
    "\n",
    "\n",
    "def gretting_node(state : AgentState) -> AgentState:\n",
    "  \"\"\"simple node that add greeting message to the state\"\"\"\n",
    "\n",
    "  state['message'] = \"hey \"+ state[\"message\"] + \",how's your day going ? \"\n",
    "\n",
    "  return state"
   ]
  },
  {
   "cell_type": "code",
   "execution_count": 17,
   "id": "269871a5",
   "metadata": {},
   "outputs": [],
   "source": [
    "graph = StateGraph(AgentState)\n",
    "\n",
    "graph.add_node(\"gretter\",gretting_node)\n",
    "\n",
    "graph.set_entry_point(\"gretter\")\n",
    "graph.set_finish_point(\"gretter\")\n",
    "\n",
    "app = graph.compile()"
   ]
  },
  {
   "cell_type": "code",
   "execution_count": 18,
   "id": "3888ab3c",
   "metadata": {},
   "outputs": [
    {
     "data": {
      "image/png": "[encoded data removed]",
      "text/plain": [
       "<IPython.core.display.Image object>"
      ]
     },
     "metadata": {},
     "output_type": "display_data"
    }
   ],
   "source": [
    "from IPython.display import Image , display\n",
    "display(Image(app.get_graph().draw_mermaid_png()))"
   ]
  },
  {
   "cell_type": "code",
   "execution_count": 19,
   "id": "ceeb2b95",
   "metadata": {},
   "outputs": [],
   "source": [
    "result = app.invoke({\"message\" : \"igorov\"})"
   ]
  },
  {
   "cell_type": "code",
   "execution_count": 20,
   "id": "d6e1aa81",
   "metadata": {},
   "outputs": [
    {
     "data": {
      "text/plain": [
       "\"hey igorov,how's your day going ? \""
      ]
     },
     "execution_count": 20,
     "metadata": {},
     "output_type": "execute_result"
    }
   ],
   "source": [
    "result[\"message\"]"
   ]
  }
 ],
 "metadata": {
  "kernelspec": {
   "display_name": "Python 3",
   "language": "python",
   "name": "python3"
  },
  "language_info": {
   "codemirror_mode": {
    "name": "ipython",
    "version": 3
   },
   "file_extension": ".py",
   "mimetype": "text/x-python",
   "name": "python",
   "nbconvert_exporter": "python",
   "pygments_lexer": "ipython3",
   "version": "3.12.10"
  }
 },
 "nbformat": 4,
 "nbformat_minor": 5
}
